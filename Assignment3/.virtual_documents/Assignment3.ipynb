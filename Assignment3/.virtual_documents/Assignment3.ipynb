


# 🟢 Setup and Required Libraries
import numpy as np
import matplotlib.pyplot as plt
import pandas as pd
import networkx as nx
import seaborn as sns
from itertools import product
from collections import Counter, defaultdict
import warnings
warnings.filterwarnings('ignore')

# Set up plotting
plt.style.use('default')
sns.set_palette("husl")
plt.rcParams['figure.figsize'] = (12, 8)











# 🟢 Helper class to build and simulate boolean network

class BooleanNetwork:
    def __init__(self, node_names):
        self.nodes = {name: 0 for name in node_names}
        self.rules = {}
        self.history = []
        self.graph = nx.DiGraph()  # NetworkX graph for visualization

        # Add nodes to NetworkX graph
        self.graph.add_nodes_from(node_names)

    def add_rule(self, target_node, rule_function, rule_description=""):
        """
        Add Boolean rule for a node

        Args:
            target_node: Node to update
            rule_function: Function that takes current state dict and returns True/False
            rule_description: Human-readable description
        """
        self.rules[target_node] = {
            'function': rule_function,
            'description': rule_description
        }

    def set_state(self, **kwargs):
        """Set states of specific nodes"""
        for node, value in kwargs.items():
            if node in self.nodes:
                self.nodes[node] = int(bool(value))

    def get_state_vector(self):
        """Get current state as list in sorted order"""
        return [self.nodes[node] for node in sorted(self.nodes.keys())]

    def update_synchronous(self):
        """Update all nodes simultaneously"""
        new_state = {}
        for node in self.nodes:
            if node in self.rules:
                new_state[node] = int(self.rules[node]['function'](self.nodes))
            else:
                new_state[node] = self.nodes[node]  # No rule = no change

        self.nodes = new_state
        self.history.append(self.get_state_vector())

    def simulate(self, steps=10, record_history=True):
        """Run simulation"""
        if record_history:
            self.history = [self.get_state_vector()]

        for step in range(steps):
            self.update_synchronous()

            # Check for steady state
            if len(self.history) >= 2 and self.history[-1] == self.history[-2]:
                print(f"   Reached steady state after {step+1} steps")
                break

        return np.array(self.history)








# 🟢 Helper class to build and simulate boolean network

print("Demo: Creating a simple 3-node Boolean network")

demo = BooleanNetwork(['A', 'B', 'C'])

# Add rules with clear descriptions
demo.add_rule('A', lambda state: not state['C'], "A = NOT C")
demo.add_rule('B', lambda state: state['A'] and state['C'], "B = A AND C")
demo.add_rule('C', lambda state: state['A'] or state['B'], "C = A OR B")

print("Rules:")
for node, rule_info in demo.rules.items():
    print(f"  {node}: {rule_info['description']}")





# 🟢 Test simulation
demo.set_state(A=1, B=0, C=0)
print(f"\nStarting state: A=1, B=0, C=0")

trajectory = demo.simulate(steps=6)
print("Trajectory:")
for i, state in enumerate(trajectory):
    state_dict = {node: state[j] for j, node in enumerate(sorted(demo.nodes.keys()))}
    print(f"  Step {i}: A={state_dict['A']}, B={state_dict['B']}, C={state_dict['C']}")











# 🟢 Create the regulatory network
nodes = ['DNA_damage', 'p53', 'MYC', 'CDK2', 'MDM2', 'p21', 'Growth', 'Death']
network = BooleanNetwork(nodes)

# Define Boolean rules (based on real biology, simplified)
network.add_rule('DNA_damage', lambda s: s['DNA_damage'], "DNA_damage = INPUT (constant)")
network.add_rule('p21', lambda s: s['p53'], "p21 = p53")
network.add_rule('MYC', lambda s: (not s['p53']) and (not s['p21']), "MYC = (NOT p53) AND (NOT p21)")
network.add_rule('CDK2', lambda s: s['MYC'] and (not s['p21']) and (not s['p53']), "CDK2 = MYC AND (NOT p21) AND (NOT p53)")
network.add_rule('MDM2', lambda s: s['MYC'], "MDM2 = MYC")
network.add_rule('p53', lambda s: s['DNA_damage'] and not s['MDM2'], "p53 = DNA_damage AND (NOT MDM2)")
network.add_rule('Growth',lambda s: s['CDK2'] and s['MYC'] and (not s['p53']), "Growth = CDK2 AND MYC AND (NOT p53)")
network.add_rule('Death', lambda s: s['p53'] and s['DNA_damage'] and (not s['Growth']), "Death = p53 AND DNA_damage AND (NOT Growth)")

print("Rules:")
for node, rule_info in network.rules.items():
    print(f" {rule_info['description']}")








# 🟡 Example code for healthy cell below, adapt to also run Stressed Cell and Oncogene Hijacked Cell scenarios

scenarios = {
    'Healthy Cell': {'DNA_damage': 0, 'p53': 0, 'MYC': 0, 'CDK2': 0, 'MDM2': 0, 'p21': 0, 'Growth': 0, 'Death': 0},
    'Stressed Cell': { 'DNA_damage': 1, 'p53': 0, 'MYC': 0, 'CDK2': 0, 'MDM2': 0, 'p21': 0, 'Growth': 0, 'Death': 0},
    'Oncogene Hijacked Cell': { 'DNA_damage': 0, 'p53': 0, 'MYC': 1, 'CDK2': 0, 'MDM2': 0, 'p21': 0, 'Growth': 0, 'Death': 0}
}

results = {}

# Run healthy cell scenario
s = "Healthy Cell"
initial_state = scenarios[s]
network.set_state(**initial_state)
trajectory = network.simulate(steps=8)
results[s] = trajectory

final_state = trajectory[-1]
node_names = sorted(network.nodes.keys())
final_dict = {node: final_state[i] for i, node in enumerate(node_names)}


s2 = "Stressed Cell"
initial_state2 = scenarios[s2]
network.set_state(**initial_state2)
trajectory2 = network.simulate(steps=8)
results[s2] = trajectory2

final_state2 = trajectory2[-1]
node_names = sorted(network.nodes.keys())
final_dict2 = {node: final_state2[i] for i, node in enumerate(node_names)}


s3 = "Oncogene Hijacked Cell"
initial_state3 = scenarios[s3]
network.set_state(**initial_state3)
trajectory3 = network.simulate(steps=8)
results[s3] = trajectory3

final_state3 = trajectory3[-1]
node_names = sorted(network.nodes.keys())
final_dict3 = {node: final_state3[i] for i, node in enumerate(node_names)}

print(f"   {s}: Final state: Growth={final_dict['Growth']}, Death={final_dict['Death']}, p53={final_dict['p53']}")
print(f"   {s2}: Final state: Growth={final_dict2['Growth']}, Death={final_dict2['Death']}, p53={final_dict2['p53']}")
print(f"   {s3}: Final state: Growth={final_dict3['Growth']}, Death={final_dict3['Death']}, p53={final_dict3['p53']}")
# TODO: Repeat for other scenarios!

# synchronous update


# 🟢 Visualize results
n_scenarios = len(results)
fig, axes = plt.subplots(1, n_scenarios, figsize=(5*n_scenarios, 6))

if n_scenarios == 1:
    axes = [axes]

for scenario_idx, (scenario_name, trajectory) in enumerate(results.items()):
    ax = axes[scenario_idx]

    # Create heatmap
    trajectory_matrix = trajectory.T  # Transpose for proper orientation

    im = ax.imshow(trajectory_matrix, cmap='RdYlBu_r', aspect='auto', interpolation='nearest')

    # Formatting
    ax.set_title(f'{scenario_name}', fontweight='bold', fontsize=12)
    ax.set_xlabel('Time Steps', fontsize=10)
    ax.set_ylabel('Network Nodes', fontsize=10)
    ax.set_yticks(range(len(node_names)))
    ax.set_yticklabels(node_names, fontsize=9)

    # Add text annotations
    for t in range(trajectory.shape[0]):
        for n in range(len(node_names)):
            color = 'white' if trajectory_matrix[n, t] == 1 else 'black'
            ax.text(t, n, int(trajectory_matrix[n, t]),
                   ha="center", va="center", color=color, fontweight='bold')

    # Highlight key output nodes
    output_indices = [i for i, name in enumerate(node_names) if name in ['Growth', 'Death', 'p53']]
    for output_idx in output_indices:  # Changed variable name to avoid conflict
        ax.axhline(y=output_idx, color='red', linestyle='--', alpha=0.3, linewidth=2)

plt.suptitle('Boolean Network Dynamics: Cell Fate Decision Making',
             fontsize=14, fontweight='bold', y=1.02)
plt.tight_layout()
plt.show()








# 🟡 Let's find the attractor states
import itertools
attractors = []
max_steps=15
node_names = sorted(network.nodes.keys())
n_nodes = len(node_names)

print(f"Testing all {2**n_nodes} possible initial states...")

# TODO: Generate all possible initial states
# Hint: Use itertools.product([0, 1], repeat=n_nodes)
all_states = itertools.product([0,1], repeat=n_nodes)

for initial_state in all_states:
  # Set the network to this initial state
  state_dict = {node_names[i]: initial_state[i] for i in range(n_nodes)}
  network.set_state(**state_dict)

  # TODO: Simulate the network
  trajectory = network.simulate(max_steps)

  # Check if it reached a steady state (last two states are the same)
  if len(trajectory) >= 2:
    final_state = tuple(trajectory[-1])  # Convert to tuple for comparison

  # Check if this is a new attractor
    if np.array_equal(trajectory[-1], trajectory[-2]):  # Steady state reached
      if final_state not in attractors:
        attractors.append(final_state)





# 🟡 Let's find the attractor states

print(f"\nFOUND {len(attractors)} ATTRACTORS:")

for i, attractor in enumerate(attractors):
        print(f"\nAttractor {i+1}: {list(attractor)}")

        # Create state dictionary for easy access
        state_dict = {node_names[j]: attractor[j] for j in range(len(node_names))}

        # Analyze the biological meaning
        growth_active = state_dict['Growth'] == 1
        death_active = state_dict['Death'] == 1
        p53_active = state_dict['p53'] == 1
        dna_damage_active = state_dict['DNA_damage'] == 1


        print(f"   Growth: {'ON' if growth_active else 'OFF'}")
        print(f"   Death: {'ON' if death_active else 'OFF'}")
        print(f"   p53: {'ON' if p53_active else 'OFF'}")
        print(f"   DNA Damage: {'ON' if dna_damage_active else 'OFF'}")

        # TODO: Interpret the meaning
        if growth_active and not death_active and not dna_damage_active:
            interpretation = "It means that the cell can continue proliferation, as there is no DNA_Damage active and because of that p53 is inactive."
        elif death_active and not growth_active:
            interpretation = "It means that the cell undergoes apoptosis properly (p53 mechanism works correctly), removing any waste from the cell that comes from the damaged DNA. There is no cell growth."
        elif growth_active and not death_active and dna_damage_active:
            interpretation = "Even though the DNA_damage is active, some safeguard fails (potentially p53) and leaves the growth pathway active."
        else:
            interpretation = "CONFLICT - Unusual state"

        print(f"   → {interpretation}")


# Convert attractors to clean matrix
attractor_matrix = []
for attractor in attractors:
    clean_row = [int(x) for x in attractor]
    attractor_matrix.append(clean_row)

attractor_matrix = np.array(attractor_matrix)

# Create heatmap
plt.figure(figsize=(10, max(6, len(attractors))))

# Create heatmap with custom colors
ax = sns.heatmap(attractor_matrix,
                 xticklabels=node_names,
                 yticklabels=[f'Attractor {i+1}' for i in range(len(attractors))],
                 cmap='RdYlBu_r',
                 cbar_kws={'label': 'Node State (0=OFF, 1=ON)'},
                 annot=True,
                 fmt='d',
                 linewidths=0.5)

plt.title('Boolean Network Attractors: Final States Comparison',
          fontsize=14, fontweight='bold')
plt.xlabel('Network Nodes', fontsize=12)
plt.ylabel('Attractors', fontsize=12)

# Highlight key output nodes
output_nodes = ['Growth', 'Death', 'p53', 'DNA_damage']
for node in output_nodes:
    if node in node_names:
        idx = node_names.index(node)
        ax.axvline(x=idx+0.5, color='red', linestyle='--', alpha=0.7, linewidth=2)

plt.tight_layout()
plt.show()





# 🟡 Which states end up in which attractor?

# Track which initial states lead to which attractors
basin_data = defaultdict(list)  # attractor -> list of initial states
attractor_map = {}  # initial_state -> attractor_index

n_nodes = len(node_names)
all_states = list(product([0, 1], repeat=n_nodes))
print(f"Analyzing {len(all_states)} initial states...")

for initial_state in all_states:
    # Set network state
    state_dict = {node_names[i]: initial_state[i] for i in range(n_nodes)}
    network.set_state(**state_dict)

    # Simulate
    trajectory = network.simulate(steps=max_steps, record_history=True)

    # Find which attractor this leads to
    if len(trajectory) >= 2 and np.array_equal(trajectory[-1], trajectory[-2]):
        final_state = tuple(int(x) for x in trajectory[-1])  # Clean conversion

        # Find matching attractor
        for att_idx, attractor in enumerate(attractors):
            clean_attractor = tuple(int(x) for x in attractor)
            if final_state == clean_attractor:
                basin_data[att_idx].append(initial_state)
                attractor_map[initial_state] = att_idx
                break

# Display basin sizes
print(f"\n Basin Sizes:")
total_states = len(all_states)
for att_idx in range(len(attractors)):
    basin_size = len(basin_data[att_idx])
    percentage = (basin_size / total_states) * 100
    print(f"   Attractor {att_idx+1}: {basin_size:3d} states ({percentage:5.1f}%)")

# Create pie chart of basin sizes
fig, (ax1, ax2) = plt.subplots(1, 2, figsize=(15, 6))

# Pie chart of basin sizes
basin_sizes = [len(basin_data[i]) for i in range(len(attractors))]
basin_labels = [f'Attractor {i+1}\n({size} states)' for i, size in enumerate(basin_sizes)]
colors = plt.cm.Set3(np.linspace(0, 1, len(attractors)))

wedges, texts, autotexts = ax1.pie(basin_sizes,
                                   labels=basin_labels,
                                   colors=colors,
                                   autopct='%1.1f%%',
                                   startangle=90)

ax1.set_title('Basin of Attraction Sizes\n"Which attractor do most states reach?"',
              fontsize=12, fontweight='bold')

# Bar chart comparison
attractor_names = [f'Attractor {i+1}' for i in range(len(attractors))]
bars = ax2.bar(attractor_names, basin_sizes, color=colors, alpha=0.7)

ax2.set_title('Basin Size Comparison', fontsize=12, fontweight='bold')
ax2.set_ylabel('Number of Initial States', fontsize=10)
ax2.set_xlabel('Attractors', fontsize=10)

# Add value labels on bars
for bar, size in zip(bars, basin_sizes):
    height = bar.get_height()
    ax2.text(bar.get_x() + bar.get_width()/2., height, f'{size}',
             ha='center', va='bottom', fontweight='bold')

plt.tight_layout()
plt.show()











def analyze_attractors(attractors, node_names, label=""):
    """
    Print and interpret attractors of a Boolean network

    Args:
        attractors (list): list of attractor states 
        node_names (list): names of network nodes 
        label (str): label for the graph titles

    Returns:
        np.ndarray: matrix representation of attractors
    """
    print(f"\nFOUND {len(attractors)} ATTRACTORS in {label}:")
    attractor_matrix = []

    for i, attractor in enumerate(attractors):
        print(f"\nAttractor {i+1}: {list(attractor)}")

        state_dict = {node_names[j]: attractor[j] for j in range(len(node_names))}

        growth_active = state_dict.get('Growth', 0) == 1
        death_active = state_dict.get('Death', 0) == 1
        p53_active = state_dict.get('p53', 0) == 1
        dna_damage_active = state_dict.get('DNA_damage', 0) == 1

        print(f"   Growth: {'ON' if growth_active else 'OFF'}")
        print(f"   Death: {'ON' if death_active else 'OFF'}")
        print(f"   p53: {'ON' if p53_active else 'OFF'}")
        print(f"   DNA Damage: {'ON' if dna_damage_active else 'OFF'}")

        if growth_active and not death_active and not dna_damage_active:
            interpretation = "It means that the cell can continue proliferation, as there is no DNA_Damage active and because of that p53 is inactive."
        elif death_active and not growth_active:
            interpretation = "It means that the cell undergoes apoptosis properly (p53 mechanism works correctly), removing any waste from the cell that comes from the damaged DNA. There is no cell growth."
        elif growth_active and not death_active and dna_damage_active:
            interpretation = "Even though the DNA_damage is active, some safeguard fails and leaves the growth pathway active (cancerous-like state)."
        else:
            interpretation = "CONFLICT - Unusual state"

        print(f"   → {interpretation}")

        attractor_matrix.append([int(x) for x in attractor])

    return np.array(attractor_matrix)


def plot_attractor_heatmap(attractor_matrix, node_names, label=""):
    """
    Visualize attractors as a heatmap for easier comparison

    Args:
        attractor_matrix (np.ndarray): Attractors as a matrix of 0/1 states
        node_names (list): Names of network nodes 
        label (str): label for the graph titles

    Returns:
        None (displays a heatmap with highlighted output nodes)
    """
    plt.figure(figsize=(10, max(6, len(attractor_matrix))))
    ax = sns.heatmap(attractor_matrix,
                     xticklabels=node_names,
                     yticklabels=[f'Attractor {i+1}' for i in range(len(attractor_matrix))],
                     cmap='RdYlBu_r',
                     cbar_kws={'label': 'Node State (0=OFF, 1=ON)'},
                     annot=True,
                     fmt='d',
                     linewidths=0.5)

    plt.title(f'Boolean Network Attractors: {label}', fontsize=14, fontweight='bold')
    plt.xlabel('Network Nodes', fontsize=12)
    plt.ylabel('Attractors', fontsize=12)

    output_nodes = ['Growth', 'Death', 'p53', 'DNA_damage']
    for node in output_nodes:
        if node in node_names:
            idx = node_names.index(node)
            ax.axvline(x=idx+0.5, color='red', linestyle='--', alpha=0.7, linewidth=2)

    plt.tight_layout()
    plt.show()

def basin_analysis(network, attractors, node_names, max_steps=50, label=""):
    """
    Perform basin of attraction analysis

    Args:
        network (BooleanNetwork): the network to analyze
        attractors (list): attractors of the network
        node_names (list): names of the network nodes
        max_steps (int): maximum steps to simulate
        label (str): label for the graph titles

    Returns:
        basin_data (dict): maps attractor index to a list of initial states leading to it
        attractor_map (dict): maps initial state to an attractor index
    """
    basin_data = defaultdict(list)  # attractor -> list of initial states
    attractor_map = {}  # initial_state -> attractor_index
    
    n_nodes = len(node_names)
    all_states = list(product([0, 1], repeat=n_nodes))
    print(f"Analyzing {len(all_states)} initial states...")
    
    for initial_state in all_states:
        # Set network state
        state_dict = {node_names[i]: initial_state[i] for i in range(n_nodes)}
        network.set_state(**state_dict)
    
        # Simulate
        trajectory = network.simulate(steps=max_steps, record_history=True)
    
        # Find which attractor this leads to
        if len(trajectory) >= 2 and np.array_equal(trajectory[-1], trajectory[-2]):
            final_state = tuple(int(x) for x in trajectory[-1])  # Clean conversion
    
            # Find matching attractor
            for att_idx, attractor in enumerate(attractors):
                clean_attractor = tuple(int(x) for x in attractor)
                if final_state == clean_attractor:
                    basin_data[att_idx].append(initial_state)
                    attractor_map[initial_state] = att_idx
                    break
    
    # Display basin sizes
    print(f"\n Basin Sizes:")
    total_states = len(all_states)
    for att_idx in range(len(attractors)):
        basin_size = len(basin_data[att_idx])
        percentage = (basin_size / total_states) * 100
        print(f"   Attractor {att_idx+1}: {basin_size:3d} states ({percentage:5.1f}%)")
    
    # Create pie chart of basin sizes
    fig, (ax1, ax2) = plt.subplots(1, 2, figsize=(15, 6))
    
    # Pie chart of basin sizes
    basin_sizes = [len(basin_data[i]) for i in range(len(attractors))]
    basin_labels = [f'Attractor {i+1}\n({size} states)' for i, size in enumerate(basin_sizes)]
    colors = plt.cm.Set3(np.linspace(0, 1, len(attractors)))
    
    wedges, texts, autotexts = ax1.pie(basin_sizes,
                                       labels=basin_labels,
                                       colors=colors,
                                       autopct='%1.1f%%',
                                       startangle=90)
    
    ax1.set_title('Basin of Attraction Sizes\n"Which attractor do most states reach?"',
                  fontsize=12, fontweight='bold')
    
    # Bar chart comparison
    attractor_names = [f'Attractor {i+1}' for i in range(len(attractors))]
    bars = ax2.bar(attractor_names, basin_sizes, color=colors, alpha=0.7)
    
    ax2.set_title('Basin Size Comparison', fontsize=12, fontweight='bold')
    ax2.set_ylabel('Number of Initial States', fontsize=10)
    ax2.set_xlabel('Attractors', fontsize=10)
    
    # Add value labels on bars
    for bar, size in zip(bars, basin_sizes):
        height = bar.get_height()
        ax2.text(bar.get_x() + bar.get_width()/2., height, f'{size}',
                 ha='center', va='bottom', fontweight='bold')
    
    plt.tight_layout()
    plt.show()

    return basin_data, attractor_map






# we create a new network model to not overwrite the original one
nodes = ['DNA_damage', 'p53', 'MYC', 'CDK2', 'MDM2', 'p21', 'Growth', 'Death']
network_mutationA = BooleanNetwork(nodes)

network_mutationA.add_rule('DNA_damage', lambda s: s['DNA_damage'], "DNA_damage = INPUT (constant)")
network_mutationA.add_rule('p21', lambda s: s['p53'], "p21 = p53")
network_mutationA.add_rule('MYC', lambda s: (not s['p53']) and (not s['p21']), "MYC = (NOT p53) AND (NOT p21)")
network_mutationA.add_rule('CDK2', lambda s: s['MYC'] and (not s['p21']) and (not s['p53']), "CDK2 = MYC AND (NOT p21) AND (NOT p53)")
network_mutationA.add_rule('MDM2', lambda s: s['MYC'], "MDM2 = MYC")
network_mutationA.add_rule('Growth',lambda s: s['CDK2'] and s['MYC'] and (not s['p53']), "Growth = CDK2 AND MYC AND (NOT p53)")
network_mutationA.add_rule('Death', lambda s: s['p53'] and s['DNA_damage'] and (not s['Growth']), "Death = p53 AND DNA_damage AND (NOT Growth)")
network_mutationA.add_rule('p53', lambda s: False, "p53 = BROKEN (always OFF)")

print("Rules:")
for node, rule_info in network_mutationA.rules.items():
    print(f" {rule_info['description']}")





scenarios = {
    'Healthy Cell': {'DNA_damage': 0, 'p53': 0, 'MYC': 0, 'CDK2': 0, 'MDM2': 0, 'p21': 0, 'Growth': 0, 'Death': 0},
    'Stressed Cell': {'DNA_damage': 1, 'p53': 0, 'MYC': 0, 'CDK2': 0, 'MDM2': 0, 'p21': 0, 'Growth': 0, 'Death': 0},
    'Oncogene Hijacked Cell': {'DNA_damage': 0, 'p53': 0, 'MYC': 1, 'CDK2': 0, 'MDM2': 0, 'p21': 0, 'Growth': 0, 'Death': 0}
}

results_mutationA = {}

s = "Healthy Cell"
initial_stateA = scenarios[s]
network_mutationA.set_state(**initial_stateA)
trajectoryA = network_mutationA.simulate(steps=8)
results_mutationA[s] = trajectoryA
final_stateA = trajectoryA[-1]
node_namesA = sorted(network_mutationA.nodes.keys())
final_dictA = {node: final_stateA[i] for i, node in enumerate(node_namesA)}

s2 = "Stressed Cell"
initial_state2A = scenarios[s2]
network_mutationA.set_state(**initial_state2A)
trajectory2A = network_mutationA.simulate(steps=8)
results_mutationA[s2] = trajectory2A
final_state2A = trajectory2A[-1]
final_dict2A = {node: final_state2A[i] for i, node in enumerate(node_namesA)}

s3 = "Oncogene Hijacked Cell"
initial_state3A = scenarios[s3]
network_mutationA.set_state(**initial_state3A)
trajectory3A = network_mutationA.simulate(steps=8)
results_mutationA[s3] = trajectory3A
final_state3A = trajectory3A[-1]
final_dict3A = {node: final_state3A[i] for i, node in enumerate(node_namesA)}

print(f"   {s}: Final state: Growth={final_dictA['Growth']}, Death={final_dictA['Death']}, p53={final_dictA['p53']}")
print(f"   {s2}: Final state: Growth={final_dict2A['Growth']}, Death={final_dict2A['Death']}, p53={final_dict2A['p53']}")
print(f"   {s3}: Final state: Growth={final_dict3A['Growth']}, Death={final_dict3A['Death']}, p53={final_dict3A['p53']}")






attractors_mutationA = []
max_steps=15
node_names = sorted(network_mutationA.nodes.keys())
n_nodes = len(node_names)

print(f"Testing all {2**n_nodes} possible initial states...")

all_states = itertools.product([0,1], repeat=n_nodes)

for initial_state in all_states:
  # Set the network to this initial state
  state_dict = {node_names[i]: initial_state[i] for i in range(n_nodes)}
  network_mutationA.set_state(**state_dict)

  trajectory = network_mutationA.simulate(max_steps)

  # Check if it reached a steady state (last two states are the same)
  if len(trajectory) >= 2:
    final_state = tuple(trajectory[-1])  # Convert to tuple for comparison

  # Check if this is a new attractor
    if np.array_equal(trajectory[-1], trajectory[-2]):  # Steady state reached
      if final_state not in attractors_mutationA:
        attractors_mutationA.append(final_state)


attractor_matrix_A = analyze_attractors(attractors_mutationA, node_names, label="Mutation A - p53 Knockout")
plot_attractor_heatmap(attractor_matrix_A, node_names, label="Mutation A - p53 Knockout")
basin_A, map_A = basin_analysis(network_mutationA, attractors_mutationA, node_names, max_steps=50, label="Mutation A - p53 Knockout")








# we create a new network model to not overwrite the original one
nodes = ['DNA_damage', 'p53', 'MYC', 'CDK2', 'MDM2', 'p21', 'Growth', 'Death']
network_mutationB = BooleanNetwork(nodes)

network_mutationB.add_rule('DNA_damage', lambda s: s['DNA_damage'], "DNA_damage = INPUT (constant)")
network_mutationB.add_rule('p21', lambda s: s['p53'], "p21 = p53")
network_mutationB.add_rule('MYC', lambda s: True, "MYC = AMPLIFIED (always ON)")
network_mutationB.add_rule('CDK2', lambda s: s['MYC'] and (not s['p21']) and (not s['p53']), "CDK2 = MYC AND (NOT p21) AND (NOT p53)")
network_mutationB.add_rule('MDM2', lambda s: s['MYC'], "MDM2 = MYC")
network_mutationB.add_rule('p53', lambda s: s['DNA_damage'] and not s['MDM2'], "p53 = DNA_damage AND (NOT MDM2)")
network_mutationB.add_rule('Growth',lambda s: s['CDK2'] and s['MYC'] and (not s['p53']), "Growth = CDK2 AND MYC AND (NOT p53)")
network_mutationB.add_rule('Death', lambda s: s['p53'] and s['DNA_damage'] and (not s['Growth']), "Death = p53 AND DNA_damage AND (NOT Growth)")

print("Rules:")
for node, rule_info in network_mutationB.rules.items():
    print(f" {rule_info['description']}")





scenarios = {
    'Healthy Cell': {'DNA_damage': 0, 'p53': 0, 'MYC': 0, 'CDK2': 0, 'MDM2': 0, 'p21': 0, 'Growth': 0, 'Death': 0},
    'Stressed Cell': {'DNA_damage': 1, 'p53': 0, 'MYC': 0, 'CDK2': 0, 'MDM2': 0, 'p21': 0, 'Growth': 0, 'Death': 0},
    'Oncogene Hijacked Cell': {'DNA_damage': 0, 'p53': 0, 'MYC': 1, 'CDK2': 0, 'MDM2': 0, 'p21': 0, 'Growth': 0, 'Death': 0}
}

results_mutationB = {}

s = "Healthy Cell"
initial_stateB = scenarios[s]
network_mutationB.set_state(**initial_stateB)
trajectoryB = network_mutationB.simulate(steps=8)
results_mutationB[s] = trajectoryB
final_stateB = trajectoryB[-1]
node_namesB = sorted(network_mutationB.nodes.keys())
final_dictB = {node: final_stateB[i] for i, node in enumerate(node_namesB)}

s2 = "Stressed Cell"
initial_state2B = scenarios[s2]
network_mutationB.set_state(**initial_state2B)
trajectory2B = network_mutationB.simulate(steps=8)
results_mutationB[s2] = trajectory2B
final_state2B = trajectory2B[-1]
final_dict2B = {node: final_state2B[i] for i, node in enumerate(node_namesB)}

s3 = "Oncogene Hijacked Cell"
initial_state3B = scenarios[s3]
network_mutationB.set_state(**initial_state3B)
trajectory3B = network_mutationB.simulate(steps=8)
results_mutationB[s3] = trajectory3B
final_state3B = trajectory3B[-1]
final_dict3B = {node: final_state3B[i] for i, node in enumerate(node_namesB)}

print(f"   {s}: Final state: Growth={final_dictB['Growth']}, Death={final_dictB['Death']}, p53={final_dictB['p53']}")
print(f"   {s2}: Final state: Growth={final_dict2B['Growth']}, Death={final_dict2B['Death']}, p53={final_dict2B['p53']}")
print(f"   {s3}: Final state: Growth={final_dict3B['Growth']}, Death={final_dict3B['Death']}, p53={final_dict3B['p53']}")





attractors_mutationB = []
max_steps=15
node_names = sorted(network_mutationB.nodes.keys())
n_nodes = len(node_names)

print(f"Testing all {2**n_nodes} possible initial states...")

all_states = itertools.product([0,1], repeat=n_nodes)

for initial_state in all_states:
  # Set the network to this initial state
  state_dict = {node_names[i]: initial_state[i] for i in range(n_nodes)}
  network_mutationB.set_state(**state_dict)

  trajectory = network_mutationB.simulate(max_steps)

  # Check if it reached a steady state (last two states are the same)
  if len(trajectory) >= 2:
    final_state = tuple(trajectory[-1])  # Convert to tuple for comparison

  # Check if this is a new attractor
    if np.array_equal(trajectory[-1], trajectory[-2]):  # Steady state reached
      if final_state not in attractors_mutationB:
        attractors_mutationB.append(final_state)


attractor_matrix_B = analyze_attractors(attractors_mutationB, node_names, label="Mutation B: MYC Amplification")
plot_attractor_heatmap(attractor_matrix_B, node_names, label="Mutation B: MYC Amplification")
basin_B, map_B = basin_analysis(network_mutationB, attractors_mutationB, node_names, max_steps=50, label="Mutation B: MYC Amplification")












