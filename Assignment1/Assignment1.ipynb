{
 "cells": [
  {
   "cell_type": "code",
   "execution_count": 1,
   "id": "b3f483e0-560d-471f-82fb-c98504a42575",
   "metadata": {},
   "outputs": [
    {
     "data": {
      "text/html": [
       "\n",
       "        <table>\n",
       "            <tr>\n",
       "                <td><strong>Name</strong></td>\n",
       "                <td>e_coli_core</td>\n",
       "            </tr><tr>\n",
       "                <td><strong>Memory address</strong></td>\n",
       "                <td>13977f500</td>\n",
       "            </tr><tr>\n",
       "                <td><strong>Number of metabolites</strong></td>\n",
       "                <td>72</td>\n",
       "            </tr><tr>\n",
       "                <td><strong>Number of reactions</strong></td>\n",
       "                <td>95</td>\n",
       "            </tr><tr>\n",
       "                <td><strong>Number of genes</strong></td>\n",
       "                <td>137</td>\n",
       "            </tr><tr>\n",
       "                <td><strong>Number of groups</strong></td>\n",
       "                <td>0</td>\n",
       "            </tr><tr>\n",
       "                <td><strong>Objective expression</strong></td>\n",
       "                <td>1.0*BIOMASS_Ecoli_core_w_GAM - 1.0*BIOMASS_Ecoli_core_w_GAM_reverse_712e5</td>\n",
       "            </tr><tr>\n",
       "                <td><strong>Compartments</strong></td>\n",
       "                <td>extracellular space, cytosol</td>\n",
       "            </tr>\n",
       "          </table>"
      ],
      "text/plain": [
       "<Model e_coli_core at 0x13977f500>"
      ]
     },
     "execution_count": 1,
     "metadata": {},
     "output_type": "execute_result"
    }
   ],
   "source": [
    "import cobra\n",
    "import pandas as pd\n",
    "\n",
    "ecoli_data = pd.read_csv(\"data/ecoli_data.csv\")\n",
    "ecoli_dict = dict(zip(ecoli_data[\"# Reaction ID\"], ecoli_data[\" reaction activity [mmol/gDW/h] \"]))\n",
    "\n",
    "\n",
    "model = cobra.io.load_json_model(\"data/ecoli_data_js.json\")\n",
    "model"
   ]
  },
  {
   "cell_type": "markdown",
   "id": "d4b5ada5-7ef3-4591-8c05-a1096cc23f86",
   "metadata": {},
   "source": [
    "## Exercise 1"
   ]
  },
  {
   "cell_type": "code",
   "execution_count": 2,
   "id": "335978bc-2e00-41c1-94f1-3f1c6c84b1ef",
   "metadata": {},
   "outputs": [
    {
     "data": {
      "text/html": [
       "<div>\n",
       "<style scoped>\n",
       "    .dataframe tbody tr th:only-of-type {\n",
       "        vertical-align: middle;\n",
       "    }\n",
       "\n",
       "    .dataframe tbody tr th {\n",
       "        vertical-align: top;\n",
       "    }\n",
       "\n",
       "    .dataframe thead th {\n",
       "        text-align: right;\n",
       "    }\n",
       "</style>\n",
       "<table border=\"1\" class=\"dataframe\">\n",
       "  <thead>\n",
       "    <tr style=\"text-align: right;\">\n",
       "      <th></th>\n",
       "      <th># Reaction ID</th>\n",
       "      <th>reaction activity [mmol/gDW/h]</th>\n",
       "    </tr>\n",
       "  </thead>\n",
       "  <tbody>\n",
       "    <tr>\n",
       "      <th>50</th>\n",
       "      <td>G6PDH2r</td>\n",
       "      <td>5.68</td>\n",
       "    </tr>\n",
       "  </tbody>\n",
       "</table>\n",
       "</div>"
      ],
      "text/plain": [
       "   # Reaction ID   reaction activity [mmol/gDW/h] \n",
       "50       G6PDH2r                              5.68"
      ]
     },
     "execution_count": 2,
     "metadata": {},
     "output_type": "execute_result"
    }
   ],
   "source": [
    "resultOne = ecoli_data.loc[ecoli_data[\"# Reaction ID\"] == \"G6PDH2r\"]\n",
    "resultOne"
   ]
  },
  {
   "cell_type": "code",
   "execution_count": 3,
   "id": "cae4df69-ee88-4fef-8e83-cc0c01bc87a9",
   "metadata": {},
   "outputs": [
    {
     "data": {
      "text/html": [
       "<div>\n",
       "<style scoped>\n",
       "    .dataframe tbody tr th:only-of-type {\n",
       "        vertical-align: middle;\n",
       "    }\n",
       "\n",
       "    .dataframe tbody tr th {\n",
       "        vertical-align: top;\n",
       "    }\n",
       "\n",
       "    .dataframe thead th {\n",
       "        text-align: right;\n",
       "    }\n",
       "</style>\n",
       "<table border=\"1\" class=\"dataframe\">\n",
       "  <thead>\n",
       "    <tr style=\"text-align: right;\">\n",
       "      <th></th>\n",
       "      <th># Reaction ID</th>\n",
       "      <th>reaction activity [mmol/gDW/h]</th>\n",
       "    </tr>\n",
       "  </thead>\n",
       "  <tbody>\n",
       "    <tr>\n",
       "      <th>4</th>\n",
       "      <td>PGL</td>\n",
       "      <td>8.12</td>\n",
       "    </tr>\n",
       "  </tbody>\n",
       "</table>\n",
       "</div>"
      ],
      "text/plain": [
       "  # Reaction ID   reaction activity [mmol/gDW/h] \n",
       "4           PGL                              8.12"
      ]
     },
     "execution_count": 3,
     "metadata": {},
     "output_type": "execute_result"
    }
   ],
   "source": [
    "resultTwo = ecoli_data.loc[ecoli_data[\"# Reaction ID\"] == \"PGL\"]\n",
    "resultTwo"
   ]
  },
  {
   "attachments": {},
   "cell_type": "markdown",
   "id": "07da7325-7db5-46e0-9168-4cb78675f6b9",
   "metadata": {},
   "source": [
    "a) As each reaction has a flux no longer under mass balance, but instead equal to its individual maximum capacity, the reaction fluxes in a linear pathway are no longer the same (the output of one reaction was equal to the input in the next one). For example the reactions: G6PDH2r -> PGL, each carrying a flux of 4.96 mmol/gDW/h under mass balance, now have the following flux values G6PDH2r: 5.68 mmol/gDW/h and PGL: 8.12 mmol/gDW/h. This is because the maximal activity levels are constrained by the enzyme abundance and not by the stochiometric mass balance, that was limiting the flux."
   ]
  },
  {
   "attachments": {},
   "cell_type": "markdown",
   "id": "0b646efc-b3bf-444e-a17d-fe50a493ac4c",
   "metadata": {},
   "source": [
    "b) Below the reactions with no gene expression data are shown (taken from the non-interactive E. coli core ESCHER model):\n",
    "1. EX_glc__D_e - it is an exchange reaction representing the intake of glucose. Gene expression data is not applicable to exchange reactions, as they don't have any genes associated with them. They only represent the boundary conditions of the system (how much metabolite is available at the boundary), so there is no gene to map to (GPR rules).\n",
    "2. FORti - it is a transport reaction. It is transporing Formate from extracellular space to the cytosol (for_e <=> for_c). It doesn't have any gene encoding an enzyme that directly catalyses it and so gene expression data is irrelevant here. This reaction only depends on the physical properties of the cell.\n",
    "3. BIOMASS_Ecoli_core_w_GAM - it is a biomass reaction representing the objective function. They work by combining certain metabolites from the entire network to simulate cell growth. Gene expression data is not applicable to this type of reactions, as they are not catalyzed by a single enzyme and so they cannot be mapped to a single gene (GPR rule)."
   ]
  },
  {
   "cell_type": "markdown",
   "id": "3fdf47e3-956b-4ec6-bd08-1f9c3b44c1f1",
   "metadata": {},
   "source": [
    "## Exercise 2"
   ]
  },
  {
   "cell_type": "code",
   "execution_count": 4,
   "id": "7ce701c4-c35b-44ca-9405-af9a6ce4206a",
   "metadata": {},
   "outputs": [],
   "source": [
    "all_reactions = model.reactions\n",
    "\n",
    "for reaction in all_reactions:\n",
    "    if reaction.id not in ecoli_dict:# if there is no data for the reaction, don't do anything (leave their default constrains)\n",
    "        continue  \n",
    "    value = ecoli_dict[reaction.id]\n",
    "    if reaction.id == \"EX_glc__D_e\": # if its the glucose exchange reaction, set the upper_bound to 1000 (high absolute default)\n",
    "        reaction.upper_bound = 1000\n",
    "        continue  \n",
    "    if reaction.id.lower() == \"atpm\": # if its the ATP maintenance reaction, don't change anything\n",
    "        continue  \n",
    "    if reaction.reversibility: # if the reaction is reversble, set the lower and upper bound to +- max values\n",
    "        reaction.lower_bound = -value\n",
    "        reaction.upper_bound = value\n",
    "    else: # if the reaction is irreversible, set the lower bound to 0 and the upper to max value\n",
    "        reaction.lower_bound = 0\n",
    "        reaction.upper_bound = value"
   ]
  },
  {
   "cell_type": "code",
   "execution_count": 5,
   "id": "173b64fb-380f-4823-833f-4b5f49b2d4a3",
   "metadata": {},
   "outputs": [
    {
     "name": "stdout",
     "output_type": "stream",
     "text": [
      "ID Lower_bound Upper_bound\n",
      "PFK 0 12.12\n",
      "PFL 0 1.0\n",
      "PGI -13.12 13.12\n",
      "PGK -23.13 23.13\n",
      "PGL 0 8.12\n",
      "ACALD -1.16 1.16\n",
      "AKGt2r -3.1 3.1\n",
      "PGM -20.01 20.01\n",
      "PIt2r -6.03 6.03\n",
      "ALCD2x -9.01 9.01\n",
      "ACALDt -2.29 2.29\n",
      "ACKr -1.19 1.19\n",
      "PPC 0 2.56\n",
      "ACONTa -25.35 25.35\n",
      "ACONTb -25.35 25.35\n",
      "ATPM 8.39 1000.0\n",
      "PPCK 0 25.23\n",
      "ACt2r -3.23 3.23\n",
      "PPS 0 2.5\n",
      "ADK1 -30.57 30.57\n",
      "AKGDH 0 24.35\n",
      "ATPS4r -60.5 60.5\n",
      "PTAr -4.47 4.47\n",
      "PYK 0 26.78\n",
      "BIOMASS_Ecoli_core_w_GAM 0.0 1000.0\n",
      "PYRt2 -1.26 1.26\n",
      "CO2t -30.45 30.45\n",
      "RPE -5.67 5.67\n",
      "CS 0 20.56\n",
      "RPI -5.56 5.56\n",
      "SUCCt2_2 0 2.36\n",
      "CYTBD 0 40.56\n",
      "D_LACt2 -4.56 4.56\n",
      "ENO -28.78 28.78\n",
      "SUCCt3 0 6.67\n",
      "ETOHt2r -2.34 2.34\n",
      "SUCDi 0 24.34\n",
      "SUCOAS -20.6 20.6\n",
      "TALA -4.45 4.45\n",
      "THD2 0 4.5\n",
      "TKT1 -3.34 3.34\n",
      "TKT2 -3.34 3.34\n",
      "TPI -45.56 45.56\n",
      "EX_ac_e 0.0 1000.0\n",
      "EX_acald_e 0.0 1000.0\n",
      "EX_akg_e 0.0 1000.0\n",
      "EX_co2_e -1000.0 1000.0\n",
      "EX_etoh_e 0.0 1000.0\n",
      "EX_for_e 0.0 1000.0\n",
      "EX_fru_e 0.0 1000.0\n",
      "EX_fum_e 0.0 1000.0\n",
      "EX_glc__D_e -10.0 1000.0\n",
      "EX_gln__L_e 0.0 1000.0\n",
      "EX_glu__L_e 0.0 1000.0\n",
      "EX_h_e -1000.0 1000.0\n",
      "EX_h2o_e -1000.0 1000.0\n",
      "EX_lac__D_e 0.0 1000.0\n",
      "EX_mal__L_e 0.0 1000.0\n",
      "EX_nh4_e -1000.0 1000.0\n",
      "EX_o2_e -1000.0 1000.0\n",
      "EX_pi_e -1000.0 1000.0\n",
      "EX_pyr_e 0.0 1000.0\n",
      "EX_succ_e 0.0 1000.0\n",
      "FBA -24.45 24.45\n",
      "FBP 0 2.35\n",
      "FORt2 0 1.28\n",
      "FORt 0 2.34\n",
      "FRD7 0 20.07\n",
      "FRUpts2 0 10.08\n",
      "FUM -24.35 24.35\n",
      "FUMt2_2 0 2.45\n",
      "G6PDH2r -5.68 5.68\n",
      "GAPD -26.13 26.13\n",
      "GLCpts 0 16.34\n",
      "GLNS 0 3.45\n",
      "GLNabc 0 0.25\n",
      "GLUDy -7.35 7.35\n",
      "GLUN 0 6.25\n",
      "GLUSy 0 7.35\n",
      "GLUt2r -4.12 4.12\n",
      "GND 0 6.72\n",
      "H2Ot -20.06 20.06\n",
      "ICDHyr -15.06 15.06\n",
      "ICL 0 14.07\n",
      "LDH_D -2.07 2.07\n",
      "MALS 0 9.12\n",
      "MALt2_2 0 8.87\n",
      "MDH -4.26 4.26\n",
      "ME1 0 3.24\n",
      "ME2 0 3.34\n",
      "NADH16 0 20.26\n",
      "NADTRHD 0 1.26\n",
      "NH4t -3.45 3.45\n",
      "O2t -40.67 40.67\n",
      "PDH 0 32.32\n"
     ]
    }
   ],
   "source": [
    "print(\"ID\", \"Lower_bound\", \"Upper_bound\")\n",
    "for reaction in all_reactions:\n",
    "    print(reaction.id, reaction.lower_bound, reaction.upper_bound)"
   ]
  },
  {
   "cell_type": "markdown",
   "id": "0c2633d8-552d-49e1-997a-772e171a3300",
   "metadata": {},
   "source": [
    "## Exercise 3"
   ]
  },
  {
   "cell_type": "code",
   "execution_count": 6,
   "id": "d8f9551f-3176-4046-a65e-b2494525232b",
   "metadata": {},
   "outputs": [
    {
     "name": "stdout",
     "output_type": "stream",
     "text": [
      "PFK: min = 0.3347, max = 10.9536\n",
      "PFL: min = 0.0000, max = 0.0000\n",
      "PGI: min = -0.0853, max = 8.8200\n",
      "PGK: min = -17.1960, max = -0.8794\n",
      "PGL: min = 0.0000, max = 4.4961\n",
      "ACALD: min = -1.1600, max = 0.0000\n",
      "AKGt2r: min = -3.1000, max = 0.0000\n",
      "PGM: min = -16.6389, max = -0.8794\n",
      "PIt2r: min = 0.0000, max = 1.7642\n",
      "ALCD2x: min = -1.1600, max = 0.0000\n",
      "ACALDt: min = -1.1600, max = 0.0000\n",
      "ACKr: min = -1.1900, max = -0.0000\n",
      "PPC: min = 0.0000, max = 2.5600\n",
      "ACONTa: min = 0.0000, max = 5.5533\n",
      "ACONTb: min = 0.0000, max = 5.5533\n",
      "ATPM: min = 8.3900, max = 39.8275\n",
      "PPCK: min = 0.0000, max = 4.6900\n",
      "ACt2r: min = -1.1900, max = 0.0000\n",
      "PPS: min = 0.0000, max = 2.5000\n",
      "ADK1: min = 0.0000, max = 2.5000\n",
      "AKGDH: min = 0.0000, max = 3.9345\n",
      "ATPS4r: min = 0.9120, max = 27.6410\n",
      "PTAr: min = 0.0000, max = 1.1900\n",
      "PYK: min = 0.0000, max = 9.1320\n",
      "BIOMASS_Ecoli_core_w_GAM: min = 0.0000, max = 0.4796\n",
      "PYRt2: min = -1.2600, max = 0.0000\n",
      "CO2t: min = -13.6748, max = 1.0153\n",
      "RPE: min = -0.3421, max = 2.6732\n",
      "CS: min = 0.0000, max = 5.5533\n",
      "RPI: min = -1.8228, max = 0.0000\n",
      "SUCCt2_2: min = 0.0000, max = 2.3600\n",
      "CYTBD: min = 1.0267, max = 24.3120\n",
      "D_LACt2: min = -2.0700, max = 0.0000\n",
      "ENO: min = 0.8794, max = 16.6389\n",
      "SUCCt3: min = 0.0000, max = 6.6700\n",
      "ETOHt2r: min = -1.1600, max = 0.0000\n",
      "SUCDi: min = 0.0000, max = 24.1220\n",
      "SUCOAS: min = -3.9345, max = 0.0000\n",
      "TALA: min = -0.0852, max = 1.4180\n",
      "THD2: min = 0.0000, max = 4.5000\n",
      "TKT1: min = -0.0852, max = 1.4180\n",
      "TKT2: min = -0.2570, max = 1.2552\n",
      "TPI: min = 0.3347, max = 8.6036\n",
      "EX_ac_e: min = 0.0000, max = 1.1900\n",
      "EX_acald_e: min = 0.0000, max = 1.1600\n",
      "EX_akg_e: min = 0.0000, max = 3.1000\n",
      "EX_co2_e: min = -1.0153, max = 13.6748\n",
      "EX_etoh_e: min = 0.0000, max = 1.1600\n",
      "EX_for_e: min = 0.0000, max = 0.0000\n",
      "EX_fru_e: min = 0.0000, max = 0.0000\n",
      "EX_fum_e: min = 0.0000, max = 0.0000\n",
      "EX_glc__D_e: min = -9.2933, max = -0.4794\n",
      "EX_gln__L_e: min = 0.0000, max = 0.0000\n",
      "EX_glu__L_e: min = 0.0000, max = 3.4500\n",
      "EX_h_e: min = 0.0000, max = 20.4022\n",
      "EX_h2o_e: min = 1.0822, max = 18.5909\n",
      "EX_lac__D_e: min = 0.0000, max = 2.0700\n",
      "EX_mal__L_e: min = 0.0000, max = 0.0000\n",
      "EX_nh4_e: min = -3.4500, max = 0.0000\n",
      "EX_o2_e: min = -12.1560, max = -0.5133\n",
      "EX_pi_e: min = -1.7642, max = -0.0000\n",
      "EX_pyr_e: min = 0.0000, max = 1.2600\n",
      "EX_succ_e: min = 0.0000, max = 6.6120\n",
      "FBA: min = 0.3347, max = 8.6036\n",
      "FBP: min = 0.0000, max = 2.3500\n",
      "FORt2: min = 0.0000, max = 0.0000\n",
      "FORt: min = 0.0000, max = 0.0000\n",
      "FRD7: min = 0.0000, max = 20.0700\n",
      "FRUpts2: min = 0.0000, max = 0.0000\n",
      "FUM: min = -2.5600, max = 4.0520\n",
      "FUMt2_2: min = 0.0000, max = 0.0000\n",
      "G6PDH2r: min = 0.0000, max = 4.4961\n",
      "GAPD: min = 0.8794, max = 17.1960\n",
      "GLCpts: min = 0.4794, max = 9.2933\n",
      "GLNS: min = 0.0000, max = 3.4500\n",
      "GLNabc: min = 0.0000, max = 0.0000\n",
      "GLUDy: min = -3.4500, max = 3.4500\n",
      "GLUN: min = 0.0000, max = 3.4500\n",
      "GLUSy: min = 0.0000, max = 3.4500\n",
      "GLUt2r: min = -3.4500, max = 0.0000\n",
      "GND: min = 0.0000, max = 4.4961\n",
      "H2Ot: min = -18.5909, max = -1.0822\n",
      "ICDHyr: min = 0.0000, max = 5.0123\n",
      "ICL: min = 0.0000, max = 4.0520\n",
      "LDH_D: min = -2.0700, max = 0.0000\n",
      "MALS: min = 0.0000, max = 4.0520\n",
      "MALt2_2: min = 0.0000, max = 0.0000\n",
      "MDH: min = -2.5600, max = 4.2600\n",
      "ME1: min = 0.0000, max = 3.2400\n",
      "ME2: min = 0.0000, max = 3.3400\n",
      "NADH16: min = 2.1644, max = 20.2600\n",
      "NADTRHD: min = 0.0000, max = 1.2600\n",
      "NH4t: min = 0.0000, max = 3.4500\n",
      "O2t: min = 0.5133, max = 12.1560\n",
      "PDH: min = 0.2547, max = 10.9311\n"
     ]
    }
   ],
   "source": [
    "# a) FVA for all reactions\n",
    "\n",
    "FVA_results = cobra.flux_analysis.variability.flux_variability_analysis(model = model, reaction_list = model.reactions, loopless = False, fraction_of_optimum = 0.0)\n",
    "\n",
    "for rxn_id, row in FVA_results.iterrows():\n",
    "    print(f\"{rxn_id}: min = {row['minimum']:.4f}, max = {row['maximum']:.4f}\")"
   ]
  },
  {
   "cell_type": "code",
   "execution_count": 7,
   "id": "97cc2cd1-2df4-4b63-8935-286a18c322ae",
   "metadata": {},
   "outputs": [
    {
     "name": "stdout",
     "output_type": "stream",
     "text": [
      "Reactions with gene expression-imposed maximal reaction activities: 57\n",
      "['PFK', 'PGI', 'PGK', 'PGL', 'PGM', 'PIt2r', 'ACKr', 'ACONTa', 'ACONTb', 'ATPM', 'PPCK', 'ADK1', 'AKGDH', 'ATPS4r', 'PTAr', 'PYK', 'BIOMASS_Ecoli_core_w_GAM', 'CO2t', 'RPE', 'CS', 'CYTBD', 'ENO', 'SUCDi', 'TALA', 'TKT1', 'TKT2', 'TPI', 'EX_ac_e', 'EX_acald_e', 'EX_akg_e', 'EX_co2_e', 'EX_etoh_e', 'EX_glc__D_e', 'EX_glu__L_e', 'EX_h_e', 'EX_h2o_e', 'EX_lac__D_e', 'EX_nh4_e', 'EX_o2_e', 'EX_pi_e', 'EX_pyr_e', 'EX_succ_e', 'FBA', 'FUM', 'G6PDH2r', 'GAPD', 'GLCpts', 'GLUDy', 'GLUN', 'GLUSy', 'GND', 'H2Ot', 'ICDHyr', 'ICL', 'MALS', 'O2t', 'PDH']\n"
     ]
    }
   ],
   "source": [
    "# b) \n",
    "\n",
    "restricted_reactions = []\n",
    "\n",
    "for rxn in model.reactions:\n",
    "    \n",
    "    fva_max = FVA_results.loc[rxn.id, \"maximum\"]\n",
    "    if fva_max != 0 and fva_max < rxn.upper_bound:\n",
    "        restricted_reactions.append(rxn.id)\n",
    "\n",
    "print(f\"Reactions with gene expression-imposed maximal reaction activities: {len(restricted_reactions)}\")\n",
    "print(restricted_reactions)"
   ]
  },
  {
   "cell_type": "markdown",
   "id": "6bd0ccee-04fe-474b-8b24-8393e3be7e61",
   "metadata": {},
   "source": [
    "57 reactions behave this way. They do so because of the network’s structure and mass balance constraints. The flux states of other reactions act as bottlenecks, which prevent the reaction from achieving its theoretical maximum flux, even though its upper bound would technically allow it. That is to say, the local enzyme capacity does not guarantee a high flux through a reaction. The actual flux is determined by the global network topology and the overall metabolic state of the cell."
   ]
  },
  {
   "cell_type": "code",
   "execution_count": 8,
   "id": "2dd9cf12-c6e3-4109-abb7-9e91e5ecfa39",
   "metadata": {},
   "outputs": [
    {
     "name": "stdout",
     "output_type": "stream",
     "text": [
      "Reactions with positive minimal flux: 16\n",
      "               minimum    maximum\n",
      "PFK       3.346774e-01  10.953556\n",
      "ATPM      8.390000e+00  39.827500\n",
      "ATPS4r    9.120000e-01  27.641000\n",
      "CS        5.151944e-16   5.553333\n",
      "CYTBD     1.026667e+00  24.312000\n",
      "ENO       8.793548e-01  16.638932\n",
      "TPI       3.346774e-01   8.603556\n",
      "EX_h_e    8.108831e-15  20.402166\n",
      "EX_h2o_e  1.082222e+00  18.590873\n",
      "FBA       3.346774e-01   8.603556\n",
      "GAPD      8.793548e-01  17.196002\n",
      "GLCpts    4.794286e-01   9.293300\n",
      "ICDHyr    2.790937e-15   5.012277\n",
      "NADH16    2.164444e+00  20.260000\n",
      "O2t       5.133333e-01  12.156000\n",
      "PDH       2.546667e-01  10.931107\n"
     ]
    }
   ],
   "source": [
    "# c) \n",
    "\n",
    "positive_min_reactions = FVA_results[FVA_results[\"minimum\"] > 0]\n",
    "\n",
    "print(f\"Reactions with positive minimal flux: {len(positive_min_reactions)}\")\n",
    "print(positive_min_reactions)"
   ]
  },
  {
   "cell_type": "markdown",
   "id": "053f7e1d-69ce-4056-986e-35105db1b20f",
   "metadata": {},
   "source": [
    "15 reactions have a positive minimal flux in the FVA. That means that these reactions always need to operate in the forward direction, and therefore have positive flux. They are essential for the metabolic network to function under the specified conditions. Those reactions are part of obligatory pathways that produce a specific biomass objective to satisfy other vital demands within the model. We can see for example ATPM (ATP maintenance), which always needs to run to satisfy the cell’s energy requirements. "
   ]
  },
  {
   "cell_type": "markdown",
   "id": "58774e10-41d3-4674-9bdc-9d2dc1d274ba",
   "metadata": {},
   "source": [
    "## Exercise 4"
   ]
  },
  {
   "cell_type": "code",
   "execution_count": 12,
   "id": "fba4c2d5-0a7b-452c-953e-58a190c1853e",
   "metadata": {},
   "outputs": [
    {
     "data": {
      "text/html": [
       "<strong><em>Optimal</em> solution with objective value 0.480</strong><br><div>\n",
       "<style scoped>\n",
       "    .dataframe tbody tr th:only-of-type {\n",
       "        vertical-align: middle;\n",
       "    }\n",
       "\n",
       "    .dataframe tbody tr th {\n",
       "        vertical-align: top;\n",
       "    }\n",
       "\n",
       "    .dataframe thead th {\n",
       "        text-align: right;\n",
       "    }\n",
       "</style>\n",
       "<table border=\"1\" class=\"dataframe\">\n",
       "  <thead>\n",
       "    <tr style=\"text-align: right;\">\n",
       "      <th></th>\n",
       "      <th>fluxes</th>\n",
       "      <th>reduced_costs</th>\n",
       "    </tr>\n",
       "  </thead>\n",
       "  <tbody>\n",
       "    <tr>\n",
       "      <th>PFK</th>\n",
       "      <td>7.314456</td>\n",
       "      <td>1.734723e-18</td>\n",
       "    </tr>\n",
       "    <tr>\n",
       "      <th>PFL</th>\n",
       "      <td>0.000000</td>\n",
       "      <td>-8.673617e-19</td>\n",
       "    </tr>\n",
       "    <tr>\n",
       "      <th>PGI</th>\n",
       "      <td>7.376438</td>\n",
       "      <td>0.000000e+00</td>\n",
       "    </tr>\n",
       "    <tr>\n",
       "      <th>PGK</th>\n",
       "      <td>-14.466494</td>\n",
       "      <td>1.912182e-18</td>\n",
       "    </tr>\n",
       "    <tr>\n",
       "      <th>PGL</th>\n",
       "      <td>0.475103</td>\n",
       "      <td>1.301043e-18</td>\n",
       "    </tr>\n",
       "    <tr>\n",
       "      <th>...</th>\n",
       "      <td>...</td>\n",
       "      <td>...</td>\n",
       "    </tr>\n",
       "    <tr>\n",
       "      <th>NADH16</th>\n",
       "      <td>20.260000</td>\n",
       "      <td>5.131667e-02</td>\n",
       "    </tr>\n",
       "    <tr>\n",
       "      <th>NADTRHD</th>\n",
       "      <td>0.000000</td>\n",
       "      <td>-1.710556e-02</td>\n",
       "    </tr>\n",
       "    <tr>\n",
       "      <th>NH4t</th>\n",
       "      <td>2.615007</td>\n",
       "      <td>0.000000e+00</td>\n",
       "    </tr>\n",
       "    <tr>\n",
       "      <th>O2t</th>\n",
       "      <td>11.516286</td>\n",
       "      <td>0.000000e+00</td>\n",
       "    </tr>\n",
       "    <tr>\n",
       "      <th>PDH</th>\n",
       "      <td>7.437320</td>\n",
       "      <td>0.000000e+00</td>\n",
       "    </tr>\n",
       "  </tbody>\n",
       "</table>\n",
       "<p>95 rows × 2 columns</p>\n",
       "</div>"
      ],
      "text/plain": [
       "<Solution 0.480 at 0x1464fbb30>"
      ]
     },
     "execution_count": 12,
     "metadata": {},
     "output_type": "execute_result"
    }
   ],
   "source": [
    "# a) \n",
    "solution = model.optimize() \n",
    "solution"
   ]
  },
  {
   "cell_type": "code",
   "execution_count": 13,
   "id": "ff8a1b8e-5b6a-4c47-92d0-b2917f27ec74",
   "metadata": {},
   "outputs": [
    {
     "name": "stdout",
     "output_type": "stream",
     "text": [
      "Maximal biomass production rate in the presence of the implemented constraints: 0.4795714305019132\n"
     ]
    }
   ],
   "source": [
    "max_biomass_production_rate = solution.objective_value\n",
    "print(\"Maximal biomass production rate in the presence of the implemented constraints:\", max_biomass_production_rate)"
   ]
  },
  {
   "cell_type": "code",
   "execution_count": 17,
   "id": "29da7229-4ba6-4101-baa3-05a855c84151",
   "metadata": {},
   "outputs": [
    {
     "name": "stdout",
     "output_type": "stream",
     "text": [
      "Bottleneck reactions:\n",
      "Reaction = THD2, flux = 4.5, upper_bound = 4.5\n",
      "Reaction = NADH16, flux = 20.26, upper_bound = 20.26\n"
     ]
    }
   ],
   "source": [
    "# b)\n",
    "fluxes = solution.fluxes # Get flux distribution\n",
    "bottlenecks = []\n",
    "tolerance = 1e-6  # Numerical tolerance to account for floating point inaccuracies\n",
    "\n",
    "for rxn in model.reactions:\n",
    "    flux = fluxes[rxn.id]\n",
    "    if rxn.upper_bound < float(\"inf\"):  # Make sure the reaction is not unconstrained, because it couldn't be a bottleneck in that case\n",
    "        if abs(flux - rxn.upper_bound) < tolerance:\n",
    "            bottlenecks.append((rxn.id, flux, rxn.upper_bound))\n",
    "\n",
    "print(\"Bottleneck reactions:\")\n",
    "for rxn_id, flux, ub in bottlenecks:\n",
    "    print(f\"Reaction = {rxn_id}, flux = {flux}, upper_bound = {ub}\")"
   ]
  },
  {
   "cell_type": "code",
   "execution_count": 23,
   "id": "d23c7945-deca-46c5-b290-b4b508ae43bc",
   "metadata": {},
   "outputs": [
    {
     "name": "stdout",
     "output_type": "stream",
     "text": [
      "Inactive constrained reactions:\n",
      "PFL\n",
      "AKGt2r\n",
      "ACALDt\n",
      "PPCK\n",
      "PPS\n",
      "ADK1\n",
      "SUCCt2_2\n",
      "SUCCt3\n",
      "EX_acald_e\n",
      "EX_akg_e\n",
      "EX_for_e\n",
      "EX_fru_e\n",
      "EX_fum_e\n",
      "EX_gln__L_e\n",
      "EX_glu__L_e\n",
      "EX_mal__L_e\n",
      "EX_succ_e\n",
      "FBP\n",
      "FORt2\n",
      "FORt\n",
      "FRD7\n",
      "FRUpts2\n",
      "FUMt2_2\n",
      "GLNabc\n",
      "GLUN\n",
      "GLUSy\n",
      "GLUt2r\n",
      "ICL\n",
      "MALS\n",
      "MALt2_2\n",
      "ME1\n",
      "ME2\n",
      "NADTRHD\n"
     ]
    }
   ],
   "source": [
    "# c)\n",
    "constrained_reactions = [rxn for rxn in model.reactions if rxn.upper_bound < float('inf')]\n",
    "zero_flux_constrained_reactions = [rxn for rxn in constrained_reactions if abs(fluxes[rxn.id]) < tolerance]\n",
    "\n",
    "print(\"Inactive constrained reactions:\")\n",
    "for rxn in zero_flux_constrained_reactions:\n",
    "    print(rxn.id)"
   ]
  },
  {
   "cell_type": "raw",
   "id": "5d723ae2-9ef3-498c-b77a-25f5f6a26497",
   "metadata": {},
   "source": [
    "One reaction that has maximal reaction activity constraints and yet zero flux in the optimal solution is the \"PFL\" reaction."
   ]
  }
 ],
 "metadata": {
  "kernelspec": {
   "display_name": "Python 3 (ipykernel)",
   "language": "python",
   "name": "python3"
  },
  "language_info": {
   "codemirror_mode": {
    "name": "ipython",
    "version": 3
   },
   "file_extension": ".py",
   "mimetype": "text/x-python",
   "name": "python",
   "nbconvert_exporter": "python",
   "pygments_lexer": "ipython3",
   "version": "3.12.7"
  }
 },
 "nbformat": 4,
 "nbformat_minor": 5
}
