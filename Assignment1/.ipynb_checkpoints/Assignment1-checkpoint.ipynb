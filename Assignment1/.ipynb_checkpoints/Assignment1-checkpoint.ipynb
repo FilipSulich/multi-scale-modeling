{
 "cells": [
  {
   "cell_type": "code",
   "execution_count": 4,
   "id": "b3f483e0-560d-471f-82fb-c98504a42575",
   "metadata": {},
   "outputs": [],
   "source": [
    "import cobra\n",
    "import pandas as pd"
   ]
  },
  {
   "cell_type": "code",
   "execution_count": 19,
   "id": "4d55f28a-2a3a-4eda-94e8-e1e164ade044",
   "metadata": {},
   "outputs": [
    {
     "data": {
      "text/html": [
       "<div>\n",
       "<style scoped>\n",
       "    .dataframe tbody tr th:only-of-type {\n",
       "        vertical-align: middle;\n",
       "    }\n",
       "\n",
       "    .dataframe tbody tr th {\n",
       "        vertical-align: top;\n",
       "    }\n",
       "\n",
       "    .dataframe thead th {\n",
       "        text-align: right;\n",
       "    }\n",
       "</style>\n",
       "<table border=\"1\" class=\"dataframe\">\n",
       "  <thead>\n",
       "    <tr style=\"text-align: right;\">\n",
       "      <th></th>\n",
       "      <th># Reaction ID</th>\n",
       "      <th>reaction activity [mmol/gDW/h]</th>\n",
       "    </tr>\n",
       "  </thead>\n",
       "  <tbody>\n",
       "    <tr>\n",
       "      <th>0</th>\n",
       "      <td>PFK</td>\n",
       "      <td>12.12</td>\n",
       "    </tr>\n",
       "    <tr>\n",
       "      <th>1</th>\n",
       "      <td>PFL</td>\n",
       "      <td>1.00</td>\n",
       "    </tr>\n",
       "    <tr>\n",
       "      <th>2</th>\n",
       "      <td>PGI</td>\n",
       "      <td>13.12</td>\n",
       "    </tr>\n",
       "    <tr>\n",
       "      <th>3</th>\n",
       "      <td>PGK</td>\n",
       "      <td>23.13</td>\n",
       "    </tr>\n",
       "    <tr>\n",
       "      <th>4</th>\n",
       "      <td>PGL</td>\n",
       "      <td>8.12</td>\n",
       "    </tr>\n",
       "    <tr>\n",
       "      <th>5</th>\n",
       "      <td>ACALD</td>\n",
       "      <td>1.16</td>\n",
       "    </tr>\n",
       "    <tr>\n",
       "      <th>6</th>\n",
       "      <td>AKGt2r</td>\n",
       "      <td>3.10</td>\n",
       "    </tr>\n",
       "    <tr>\n",
       "      <th>7</th>\n",
       "      <td>PGM</td>\n",
       "      <td>20.01</td>\n",
       "    </tr>\n",
       "    <tr>\n",
       "      <th>8</th>\n",
       "      <td>PIt2r</td>\n",
       "      <td>6.03</td>\n",
       "    </tr>\n",
       "    <tr>\n",
       "      <th>9</th>\n",
       "      <td>ALCD2x</td>\n",
       "      <td>9.01</td>\n",
       "    </tr>\n",
       "  </tbody>\n",
       "</table>\n",
       "</div>"
      ],
      "text/plain": [
       "  # Reaction ID   reaction activity [mmol/gDW/h] \n",
       "0           PFK                             12.12\n",
       "1           PFL                              1.00\n",
       "2           PGI                             13.12\n",
       "3           PGK                             23.13\n",
       "4           PGL                              8.12\n",
       "5         ACALD                              1.16\n",
       "6        AKGt2r                              3.10\n",
       "7           PGM                             20.01\n",
       "8         PIt2r                              6.03\n",
       "9        ALCD2x                              9.01"
      ]
     },
     "execution_count": 19,
     "metadata": {},
     "output_type": "execute_result"
    }
   ],
   "source": [
    "ecoli_data = pd.read_csv(\"ecoli_data.csv\")\n",
    "ecoli_data.head(10)"
   ]
  },
  {
   "cell_type": "markdown",
   "id": "d4b5ada5-7ef3-4591-8c05-a1096cc23f86",
   "metadata": {},
   "source": [
    "## Exercise 1"
   ]
  },
  {
   "attachments": {},
   "cell_type": "markdown",
   "id": "07da7325-7db5-46e0-9168-4cb78675f6b9",
   "metadata": {},
   "source": [
    "a) As each reaction has a flux no longer under mass balance, but instead equal to its individual maximum capacity, the reaction fluxes in a linear pathway are no longer the same. For example the reactions: G6PDH2r -> PGL -> GND, where each has a flux equal to 4.96 under mass balance, now has the following flux values G6PDH2r: 5.68, PGL: 8.12, GND: 6.72. The reason for that is that maximal activity levels are constrained by the concentrations of the enzymes catalysing the particular reaction and not by the mass balance. Each reaction will try to maximize the flux given the available enzyme and therefore the flux values of consecutive reactions will differ."
   ]
  },
  {
   "cell_type": "code",
   "execution_count": null,
   "id": "3e4b85ca-cdb0-4afd-830d-ef2ec673ac06",
   "metadata": {},
   "outputs": [],
   "source": [
    "b)"
   ]
  },
  {
   "cell_type": "markdown",
   "id": "3fdf47e3-956b-4ec6-bd08-1f9c3b44c1f1",
   "metadata": {},
   "source": [
    "## Exercise 2"
   ]
  },
  {
   "cell_type": "markdown",
   "id": "0c2633d8-552d-49e1-997a-772e171a3300",
   "metadata": {},
   "source": [
    "## Exercise 3"
   ]
  },
  {
   "cell_type": "markdown",
   "id": "ea66af89-ab2f-4d7d-91c8-8c709969af1a",
   "metadata": {},
   "source": [
    "## Exercise 4"
   ]
  },
  {
   "cell_type": "code",
   "execution_count": null,
   "id": "43ad1a0b-9926-484c-8386-547be453d83d",
   "metadata": {},
   "outputs": [],
   "source": []
  }
 ],
 "metadata": {
  "kernelspec": {
   "display_name": "Python [conda env:base] *",
   "language": "python",
   "name": "conda-base-py"
  },
  "language_info": {
   "codemirror_mode": {
    "name": "ipython",
    "version": 3
   },
   "file_extension": ".py",
   "mimetype": "text/x-python",
   "name": "python",
   "nbconvert_exporter": "python",
   "pygments_lexer": "ipython3",
   "version": "3.13.5"
  }
 },
 "nbformat": 4,
 "nbformat_minor": 5
}
