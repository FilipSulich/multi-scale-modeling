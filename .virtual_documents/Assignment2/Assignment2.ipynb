import numpy as np
import matplotlib.pyplot as plt
import pandas as pd
from scipy.integrate import odeint
import seaborn as sns





def sird_model(y, t, beta, gamma, mu):
    """
    SIRD model differential equations

    Parameters:
    - y: [S, I, R, D] populations at time t
    - beta: transmission rate
    - gamma: recovery rate
    - mu: mortality rate

    Returns:
    - [dS/dt, dI/dt, dR/dt, dD/dt]
    """
    S, I, R, D = y 
    N = S + I + R + D

    dSdt = -beta * S * I / N
    dIdt = beta * S * I / N - ( gamma + mu ) * I
    dRdt = gamma * I
    dDdt = mu * I

    return dSdt, dIdt, dRdt, dDdt


def analyze_recovery_rates(beta, mu, N, I0, simulation_days):
    """
    Analyze epidemic outcomes for different recovery rates.

    Parameters:
    -----------
    beta : float
        Transmission rate
    mu : float  
        Mortality rate
    N : int
        Total population
    I0 : int
        Initial infected individuals
    simulation_days : int
        Simulation duration in days

    Returns:
    --------
    pandas.DataFrame
        Results summary for each recovery rate
    """

    # initial conditions
    S0 = N - I0 # initial susceptible individuals are all the people in population who are not yet infected
    R0 = 0 # initially there is no one who already recovered
    D0 = 0 # initially there are no dead people
    y0 = [S0, I0, R0, D0] # initial state
    t = np.linspace(0, simulation_days, simulation_days) # create one time step per day
    
    gamma_values = [0.05, 0.1, 0.15, 0.2, 0.25] # test recovery rates
    results = []
    
    for gamma in gamma_values:
        
        sol = odeint(sird_model, y0, t, args = (beta, gamma, mu)) # solve the SIRD equations over time
        S, I, R, D = sol.T # transpose the solution to save each section separately

        peak_infected = np.max(I)
        peak_day = np.argmax(I) # since we have one value for every day
        total_deaths = D[-1] # last D will be a number of cumulative deaths over the simulation time period
        R0 = beta / (gamma + mu) # basic reproduction number for the SIRD model

        results.append({
            'gamma': gamma,
            'R0': round(R0, 2),
            'peak_infected': round(peak_infected, 0), # infected people are treated as whole
            'peak_day': peak_day,
            'total_deaths': round(total_deaths, 0) # dead people are treated as whole
        })

        # Create the plot
        plt.figure(figsize=(10, 6))
    
        plt.plot(t, S, label='Susceptible', color='blue', linewidth=2)
        plt.plot(t, I, label='Infected', color='orange', linewidth=2)
        plt.plot(t, R, label='Recovered', color='green', linewidth=2)
        plt.plot(t, D, label='Deaths', color='red', linewidth=2)
    
        # Plot formatting
        plt.xlabel('Time (days)', fontsize=12)
        plt.ylabel('Number of individuals', fontsize=12)
        plt.title(f'SIRD Epidemic Model Simulation with recovery rate={gamma}', fontsize=14, fontweight='bold')
        plt.legend(loc='best')
        plt.grid(True, linestyle='--', alpha=0.6)
        plt.tight_layout()
    
        # Show the plot
        plt.show()

    df = pd.DataFrame(results)
    return df


# testing Part 1
df = analyze_recovery_rates(beta=0.4, mu=0.02, N=1000, I0=5, simulation_days=200)
print(df)












