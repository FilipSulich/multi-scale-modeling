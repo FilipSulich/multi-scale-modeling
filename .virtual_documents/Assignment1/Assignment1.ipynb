import cobra
import pandas as pd

ecoli_data = pd.read_csv("data/ecoli_data.csv")
ecoli_dict = dict(zip(ecoli_data["# Reaction ID"], ecoli_data[" reaction activity [mmol/gDW/h] "]))


model = cobra.io.load_json_model("data/ecoli_data_js.json")
model





resultOne = ecoli_data.loc[ecoli_data["# Reaction ID"] == "G6PDH2r"]
resultOne


resultTwo = ecoli_data.loc[ecoli_data["# Reaction ID"] == "PGL"]
resultTwo











all_reactions = model.reactions

for reaction in all_reactions:
    if reaction.id not in ecoli_dict:# if there is no data for the reaction, don't do anything (leave their default constrains)
        continue  
    value = ecoli_dict[reaction.id]
    if reaction.id == "EX_glc__D_e": # if its the glucose exchange reaction, set the upper_bound to 1000 (high absolute default)
        reaction.upper_bound = 1000
        continue  
    if reaction.id.lower() == "atpm": # if its the ATP maintenance reaction, don't change anything
        continue  
    if reaction.reversibility: # if the reaction is reversble, set the lower and upper bound to +- max values
        reaction.lower_bound = -value
        reaction.upper_bound = value
    else: # if the reaction is irreversible, set the lower bound to 0 and the upper to max value
        reaction.lower_bound = 0
        reaction.upper_bound = value


print("ID", "Lower_bound", "Upper_bound")
for reaction in all_reactions:
    print(reaction.id, reaction.lower_bound, reaction.upper_bound)





# a) FVA for all reactions

FVA_results = cobra.flux_analysis.variability.flux_variability_analysis(model = model, reaction_list = model.reactions, loopless = False, fraction_of_optimum = 0.0)

for rxn_id, row in FVA_results.iterrows():
    print(f"{rxn_id}: min = {row['minimum']:.4f}, max = {row['maximum']:.4f}")


# b) 

restricted_reactions = []

for rxn in model.reactions:
    
    fva_max = FVA_results.loc[rxn.id, "maximum"]
    if fva_max != 0 and fva_max < rxn.upper_bound:
        restricted_reactions.append(rxn.id)

print(f"Reactions with gene expression-imposed maximal reaction activities: {len(restricted_reactions)}")
print(restricted_reactions)





# c) 

positive_min_reactions = FVA_results[FVA_results["minimum"] > 0]

print(f"Reactions with positive minimal flux: {len(positive_min_reactions)}")
print(positive_min_reactions)








# a) 
solution = model.optimize() 
solution


max_biomass_production_rate = solution.objective_value
print("Maximal biomass production rate in the presence of the implemented constraints:", max_biomass_production_rate)


# b)
fluxes = solution.fluxes # Get flux distribution
bottlenecks = []
tolerance = 1e-6  # Numerical tolerance to account for floating point inaccuracies

for rxn in model.reactions:
    flux = fluxes[rxn.id]
    if rxn.upper_bound < float("inf"):  # Make sure the reaction is not unconstrained, because it couldn't be a bottleneck in that case
        if abs(flux - rxn.upper_bound) < tolerance:
            bottlenecks.append((rxn.id, flux, rxn.upper_bound))

print("Bottleneck reactions:")
for rxn_id, flux, ub in bottlenecks:
    print(f"Reaction = {rxn_id}, flux = {flux}, upper_bound = {ub}")


# c)
constrained_reactions = [rxn for rxn in model.reactions if rxn.upper_bound < float('inf')]
zero_flux_constrained_reactions = [rxn for rxn in constrained_reactions if abs(fluxes[rxn.id]) < tolerance]

print("Inactive constrained reactions:")
for rxn in zero_flux_constrained_reactions:
    print(rxn.id)





o2_ex = model.reactions.get_by_id('EX_o2_e')
print(f"Oxygen exchange reaction bounds: {o2_ex.bounds}")



